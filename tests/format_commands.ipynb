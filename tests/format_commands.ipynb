{
 "cells": [
  {
   "cell_type": "code",
   "execution_count": 3,
   "metadata": {},
   "outputs": [],
   "source": [
    "import os\n",
    "import numpy as np\n",
    "import re"
   ]
  },
  {
   "cell_type": "code",
   "execution_count": 4,
   "metadata": {},
   "outputs": [],
   "source": [
    "def string_to_arr(string):\n",
    "    string = re.sub('\\]','', string)\n",
    "    string = re.sub('\\[', '', string)\n",
    "    string = re.sub('\\n', '', string)\n",
    "    string = re.sub('\"','', string)\n",
    "    arr = np.asarray(string.split(','),dtype=str)\n",
    "    \n",
    "    return arr"
   ]
  },
  {
   "cell_type": "code",
   "execution_count": 5,
   "metadata": {},
   "outputs": [],
   "source": [
    "with open('leetcode_hashset_test2') as f:\n",
    "    cmnds = string_to_arr(f.readline())\n",
    "    vals = string_to_arr(f.readline())\n",
    "    otpts = string_to_arr(f.readline())\n",
    "f.close()"
   ]
  },
  {
   "cell_type": "code",
   "execution_count": 6,
   "metadata": {},
   "outputs": [],
   "source": [
    "cmnd_string_map = {\n",
    "    'MyHashSet': 'obj = new Hashet({})',\n",
    "    'add': 'obj->add({})',\n",
    "    'remove': 'obj->remove({})',\n",
    "    'contains': 'obj->contains({})'\n",
    "}\n",
    "\n",
    "otpt_string_map = {\n",
    "    'true': 'ASSERT_TRUE({})',\n",
    "    'false': 'ASSERT_FALSE({})'\n",
    "}"
   ]
  },
  {
   "cell_type": "code",
   "execution_count": 7,
   "metadata": {},
   "outputs": [],
   "source": [
    "fname = 'leetcode_hashset_test2_format'\n",
    "os.system('touch {}'.format(fname))\n",
    "with open(fname, 'w') as f:\n",
    "    for i,cmnd in enumerate(cmnds):\n",
    "        t_f = ['true', 'false']\n",
    "    \n",
    "        cmnd_str = cmnd_string_map[cmnd].format(vals[i])\n",
    "        if otpts[i] in t_f:\n",
    "            line_str = otpt_string_map[otpts[i]].format(cmnd_str)\n",
    "        else :\n",
    "            line_str = cmnd_str\n",
    "        \n",
    "        line_str += ';'\n",
    "   \n",
    "        f.write(line_str + os.linesep)\n",
    "    \n",
    "f.close()    "
   ]
  }
 ],
 "metadata": {
  "kernelspec": {
   "display_name": "python3",
   "language": "python",
   "name": "python3"
  },
  "language_info": {
   "codemirror_mode": {
    "name": "ipython",
    "version": 2
   },
   "file_extension": ".py",
   "mimetype": "text/x-python",
   "name": "python",
   "nbconvert_exporter": "python",
   "pygments_lexer": "ipython2",
   "version": "2.7.17"
  }
 },
 "nbformat": 4,
 "nbformat_minor": 4
}
